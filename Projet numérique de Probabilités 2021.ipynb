{
 "cells": [
  {
   "cell_type": "markdown",
   "metadata": {},
   "source": [
    "## Instructions {-}\n",
    "Ce sujet est constitué de deux parties : la partie 1 correspond au sujet donné l'an dernier, dont la correction vous est donnée, la partie 2 constitue la partie qui sera évaluée et se place dans la continuité de la partie 1."
   ]
  },
  {
   "cell_type": "markdown",
   "metadata": {},
   "source": [
    "# Enoncé du problème (Partie 1)\n",
    "\n",
    "L'objectif de ce projet est d'estimer la longueur de câble sous-marin nécessaire pour relier deux côtes $A$ et $B$  en utilisant des simulations conditionnelles.\n",
    "\n",
    "\n",
    "Le câble reposera sur le fond marin dont la profondeur est inconnue.\n",
    "Le segment $[AB]$ est discrétisé par une séquence de (N+1) points. On pose $x_0=A$ et pour $i=1,\\dots,N$, $$x_i=x_0+i\\Delta$$ où $$\\Delta = \\frac{AB}{N}$$ de telle sorte que $x_N=B$.\n",
    "On note $z(x)$ la profondeur du fond marin au point $x$ de telle sorte \n",
    "qu'on pourra estimer la longueur totale de câble nécessaire par la somme \n",
    "des longueurs sur les segments de la discrétisation :\n",
    "\n",
    "$$l=\\sum_{i=1}^N\\sqrt{\\Delta^2+(z(x_i)-z(x_{i-1}))^2}.$$\n",
    "\n",
    "Enfin, notons que l'on dispose d'un ensemble de $n$ observations de la \n",
    "profondeur que l'on supposera situées sur des points de discrétisation $z(x_{j_1}),\\dots,z(x_{j_n})$.\n",
    "\n",
    "\n",
    "On adopte un modèle probabiliste pour la profondeur. On suppose que le vecteur des \n",
    "profondeurs sur les points de discrétisation \n",
    "$\\mathbf{z}=(z(x_0),\\dots,z(x_N))$ est la réalisation\n",
    "d'un vecteur aléatoire gaussien $\\mathbf{Z}=(Z(x_0),\\dots,Z(x_N))$ \n",
    "dont le vecteur d'espérance ne contient qu'une seule valeur $\\mu$ \n",
    "répétée $N+1$ fois et dont la matrice de covariance $\\Sigma$ a pour termes $\\sigma_{ij}$\n",
    "définis par $\\sigma_{ij}=C(|x_i-x_j|)$ où $C$ est une\n",
    "fonction décroissante, traduisant le fait que deux points \n",
    "géographiquement proches ont tendance à avoir des profondeurs plus similaires que deux points éloignés.\n",
    "\n",
    "On supposera que la matrice de covariance ainsi \n",
    "générée est définie-positive (en fait, $C$ sera choisie parmi les fonctions qui, \n",
    "appliquées aux termes d'une matrice de distance, produisent des matrices définie-positives). \n",
    "\n",
    "Si on note $L$ la variable aléatoire donnant la longueur de cable nécessaire : \n",
    "$$L=\\sum_{i=1}^N\\sqrt{\\Delta^2+(Z(x_i)-Z(x_{i-1}))^2},$$\n",
    "un bon estimateur de $L$ est fourni par l'espérance conditionnelle \n",
    "\n",
    "$$L^\\star=E[L|Z(x_{j_1})=z(x_{j_1}),\\dots,Z(x_{j_n})=z(x_{j_n})].$$\n",
    "                                                                              \n",
    "Cependant, cette quantité est difficilement accessible par le calcul. \n",
    "On va donc avoir recours à des\n",
    "simulations conditionnelles. C'est-à-dire que l'on va simuler \n",
    "un nombre $K$ de réalités (disons des réalisations du modèle \n",
    "probabiliste choisi), et sur chacune d'entre elle, \n",
    "la quantité de câble nécessaire sera évaluée. \n",
    "On disposera ainsi d'un échantillon $l_{(1)},\\dots,l_{(K)}$ de \n",
    "longueures simulées. Puis on approchera l'espérance conditionnelle  par \n",
    "$$L^\\star=\\frac1{K}\\sum_{k=1}^K l_{(k)}.$$\n",
    "\n",
    "L'objectif de ce projet est donc d'écrire un code permettant \n",
    "d'effectuer cette simulation conditionnelle, puis de l'appliquer \n",
    "au jeu de données fourni et d'en déduire une estimation de la longueur de câble nécessaire."
   ]
  },
  {
   "cell_type": "markdown",
   "metadata": {},
   "source": [
    "## Questions théoriques\n",
    "\n",
    "1. Quel théorème du cours nous autorise-t-il à estimer l'espérance conditionnelle par la moyenne empirique de simulations conditionnelles ?\n",
    "\n",
    "*la loi forte des grands nombres, cf [Proba IV p.16](https://boisgera.github.io/CDIS/output/Probabilit%C3%A9%20IV.pdf), en vérifiant que $L$ est bien intégrable*\n",
    "\n",
    "2. Rappeler la loi conditionnelle du vecteur des composantes de $\\mathbf{Z}$ correspondant aux points de discrétisation\n",
    "sans observation, connaissant les valeurs prises par les composantes aux sites d'observation.\n",
    "\n",
    "*cf. [Proba III p.18](https://boisgera.github.io/CDIS/output/Probabilit%C3%A9%20III.pdf),*\n",
    "\n",
    "3. Si $\\mathbf{Y}=(Y_1,\\dots,Y_p)$ est un vecteur de composantes gaussiennes indépendantes, toutes d'espérance nulle et de variance 1, \n",
    "quelle est la loi du vecteur $\\mathbf{Z}=m+R\\mathbf{Y}$ où $R$ est une matrice $p\\times p$ et $m$ est un vecteur de taille $p$ ?\n",
    "\n",
    "*cf. [Proba V p.12](https://cloud.mines-paristech.fr/index.php/s/GLDwtTAMOJCYk3i/download)*\n",
    "\n",
    "4. En déduire un algorithme de simulation conditionnelle.\n",
    "\n",
    "*Appliquer l'algorithme de la q.3 à la loi conditionnelle (on calculera en particulier l'espérance conditionnelle de $\\mathbf{Z}$ sachant les données et la décomposition de Cholesky de la matrice de covariance conditionnelle sachant les données).*"
   ]
  },
  {
   "cell_type": "markdown",
   "metadata": {},
   "source": [
    "## Données du problème\n",
    "Conventionnellement, $A$ est l'origine, $B=500$, $N=100$.\n",
    "\n",
    "Les données $$\\begin{array}{c|r}i & z(x_i)\\\\\n",
    "\\hline\n",
    "0 & 0\\\\\n",
    "20 & -4\\\\\n",
    "40 & -12.8\\\\\n",
    "60 & -1\\\\\n",
    "80 & -6.5\\\\\n",
    "100 & 0\\end{array}$$\n",
    "\n",
    "L'espérance de chaque composante du vecteur aléatoire $\\mathbf{Z}$ est donnée par $\\mu=-5.$\n",
    "\n",
    "La fonction $C$ est définie par $$C(h)=\\sigma^2 e^{-|h|/a},$$\n",
    "\n",
    "où $|h|$ correspond à la distance entre deux points, $a=50$ et $\\sigma^2=12$.\n"
   ]
  },
  {
   "cell_type": "markdown",
   "metadata": {},
   "source": [
    "## Implémentation"
   ]
  },
  {
   "cell_type": "markdown",
   "metadata": {},
   "source": [
    "### Préambule"
   ]
  },
  {
   "cell_type": "code",
   "execution_count": 1,
   "metadata": {},
   "outputs": [],
   "source": [
    "#Chargement de dépendances\n",
    "\n",
    "import numpy as np\n",
    "import matplotlib.pyplot as plt\n",
    "\n",
    "#Discrétisation\n",
    "A=0\n",
    "B=500\n",
    "N=101 #Nombre de points de discrétisation\n",
    "Delta = (B-A)/(N-1)\n",
    "discretization_indexes = np.arange(N)\n",
    "discretization = discretization_indexes*Delta\n",
    "#Paramètres du modèle\n",
    "\n",
    "mu=-5\n",
    "a = 50\n",
    "sigma2 = 12\n",
    "\n",
    "#Données\n",
    "\n",
    "observation_indexes = [0,20,40,60,80,100]\n",
    "depth = np.array([0,-4,-12.8,-1,-6.5,0])\n",
    "\n",
    "#Indices des composantes correspondant aux observations et aux componsantes non observées\n",
    "\n",
    "unknown_indexes=list(set(discretization_indexes)-set(observation_indexes))\n"
   ]
  },
  {
   "cell_type": "markdown",
   "metadata": {},
   "source": [
    "### Questions\n",
    "\n",
    "1. Ecrire une fonction qui prend en argument la distance entre les points, le paramètre $a$, et le paramètre $\\sigma^2$, et qui retourne la covariance entre deux points.\n",
    "On pourra fournir une matrice de distance à cette fonction. Dans ce cas, la fonction renverra la matrice de covariance."
   ]
  },
  {
   "cell_type": "code",
   "execution_count": 2,
   "metadata": {},
   "outputs": [],
   "source": [
    "#dist : distance entre les points (ou matrice de distance)\n",
    "#rangeval : a\n",
    "#sigmaval : sigma^2\n",
    "def Covexp(dist,rangeval,sigmaval):\n",
    "    return sigmaval * np.exp(-dist/rangeval)\n"
   ]
  },
  {
   "cell_type": "markdown",
   "metadata": {},
   "source": [
    "2. Calculer la matrice de distance."
   ]
  },
  {
   "cell_type": "code",
   "execution_count": 3,
   "metadata": {},
   "outputs": [],
   "source": [
    "#np.subtract.outer permet d'effectuer le calcul sur toutes les paires\n",
    "distmat=abs(np.subtract.outer(discretization,discretization))"
   ]
  },
  {
   "cell_type": "markdown",
   "metadata": {},
   "source": [
    "3. Calculer la matrice de covariance du vecteur $\\mathbf{Z}=(Z(x_0),\\dots,Z(x_N))$."
   ]
  },
  {
   "cell_type": "code",
   "execution_count": 4,
   "metadata": {},
   "outputs": [],
   "source": [
    "#Par définition, la mat de cov de Z est la matrice définie par les sigma_i_j, ie Covexp appliquée à distmat.\n",
    "Sigma=Covexp(distmat,a,sigma2)"
   ]
  },
  {
   "cell_type": "markdown",
   "metadata": {},
   "source": [
    "4. Extraire les 3 matrices de covariance suivantes :\n",
    "\n",
    " * entre les observations\n",
    "\n",
    " * entre les observations et les inconnues\n",
    "\n",
    " * entre les inconnues\n"
   ]
  },
  {
   "cell_type": "code",
   "execution_count": 5,
   "metadata": {},
   "outputs": [],
   "source": [
    "# Tout est dans la matrice calculée précédemment.\n",
    "SigmaObs = Sigma[observation_indexes,:][:,observation_indexes]\n",
    "SigmaObsUnknown = Sigma[observation_indexes,:][:,unknown_indexes]\n",
    "SigmaUnknown = Sigma[unknown_indexes,:][:,unknown_indexes]"
   ]
  },
  {
   "cell_type": "markdown",
   "metadata": {},
   "source": [
    "5. Calculer l'espérance conditionnelle des composantes non observées connaissant les observations et la représenter avec les données."
   ]
  },
  {
   "cell_type": "code",
   "execution_count": 6,
   "metadata": {},
   "outputs": [],
   "source": [
    "# cf. question théorique 2 : les lois conditionnelles dans les vecteurs gaussiens\n",
    "invSigma = np.linalg.inv(SigmaObs) \n",
    "Ec= mu+np.matmul(np.transpose(SigmaObsUnknown),np.matmul(np.linalg.inv(SigmaObs),depth-mu))"
   ]
  },
  {
   "cell_type": "code",
   "execution_count": 7,
   "metadata": {},
   "outputs": [
    {
     "data": {
      "image/png": "[encoded data removed]",
      "text/plain": [
       "<Figure size 432x288 with 1 Axes>"
      ]
     },
     "metadata": {
      "needs_background": "light"
     },
     "output_type": "display_data"
    }
   ],
   "source": [
    "allval1 = np.zeros(N)\n",
    "allval1[unknown_indexes]=Ec\n",
    "allval1[observation_indexes]=depth\n",
    "plt.plot(discretization,allval1)\n",
    "plt.plot(discretization[observation_indexes], depth, 'ro')\n",
    "plt.show()"
   ]
  },
  {
   "cell_type": "markdown",
   "metadata": {},
   "source": [
    "6. Calculer la matrice de variance conditionnelle et tracer sa diagonale (variance conditionnelle) en fonction de la position. Commenter."
   ]
  },
  {
   "cell_type": "code",
   "execution_count": 8,
   "metadata": {},
   "outputs": [],
   "source": [
    "SigmaCond = SigmaUnknown - np.matmul(np.transpose(SigmaObsUnknown),np.matmul(np.linalg.inv(SigmaObs),SigmaObsUnknown))"
   ]
  },
  {
   "cell_type": "code",
   "execution_count": 9,
   "metadata": {},
   "outputs": [
    {
     "data": {
      "image/png": "[encoded data removed]",
      "text/plain": [
       "<Figure size 432x288 with 1 Axes>"
      ]
     },
     "metadata": {
      "needs_background": "light"
     },
     "output_type": "display_data"
    }
   ],
   "source": [
    "allval2 = np.zeros(N)\n",
    "allval2[unknown_indexes]=np.diag(SigmaCond)\n",
    "plt.plot(discretization,allval2)\n",
    "plt.plot(discretization[observation_indexes], np.zeros(np.shape(observation_indexes)[0]), 'ro')\n",
    "plt.show()"
   ]
  },
  {
   "cell_type": "markdown",
   "metadata": {},
   "source": [
    "*On voit ici que la variance est nulle aux points de données (puisque la valeur est fixée) puis qu'elle augmente lorsqu'on s'éloigne des données*"
   ]
  },
  {
   "cell_type": "markdown",
   "metadata": {},
   "source": [
    "7. Effectuer une simulation conditionnelle. Sur un même graphique, tracer la simulation ainsi que les données et l'espérance conditionnelle. Commenter."
   ]
  },
  {
   "cell_type": "code",
   "execution_count": 10,
   "metadata": {},
   "outputs": [],
   "source": [
    "# cf. q théorique 2\n",
    "Cholesky = np.linalg.cholesky(SigmaCond)\n",
    "x = np.random.normal(0,1,np.shape(unknown_indexes)[0])\n",
    "simu = Ec + np.matmul(Cholesky,x)"
   ]
  },
  {
   "cell_type": "code",
   "execution_count": 11,
   "metadata": {
    "scrolled": true
   },
   "outputs": [
    {
     "data": {
      "image/png": "[encoded data removed]",
      "text/plain": [
       "<Figure size 432x288 with 1 Axes>"
      ]
     },
     "metadata": {
      "needs_background": "light"
     },
     "output_type": "display_data"
    }
   ],
   "source": [
    "allval3 = np.zeros(N)\n",
    "allval3[unknown_indexes]=simu\n",
    "allval3[observation_indexes]=depth\n",
    "plt.plot(discretization,allval3)\n",
    "plt.plot(discretization,allval1)\n",
    "plt.plot(discretization[observation_indexes], depth, 'ro')\n",
    "plt.show()"
   ]
  },
  {
   "cell_type": "markdown",
   "metadata": {},
   "source": [
    "*l'espérance conditionnelle est lisse car c'est la fonction des données qui minimise la variance ; la simulation conditionnelle reproduit les fluctuations du modèle et donc l'aspect du fond marin*"
   ]
  },
  {
   "cell_type": "markdown",
   "metadata": {},
   "source": [
    "8. Ecrire une fonction qui calcule la longueur du câble en fonction du vecteur des profondeurs et du pas de discrétisation."
   ]
  },
  {
   "cell_type": "code",
   "execution_count": 12,
   "metadata": {},
   "outputs": [],
   "source": [
    "def length(z,delta):\n",
    "    return sum(np.sqrt(delta**2+(z[1:N]-z[0:-1])**2))"
   ]
  },
  {
   "cell_type": "markdown",
   "metadata": {},
   "source": [
    "9. Utiliser cette fonction pour calculer la longueur du câble à partir de 100 simulations. Comparer l'espérance conditionnelle (estimée) de la longueur avec la longueur de l'espérance conditionnelle."
   ]
  },
  {
   "cell_type": "code",
   "execution_count": 13,
   "metadata": {},
   "outputs": [],
   "source": [
    "K=100\n",
    "result = np.zeros(K)\n",
    "for i in range(K):\n",
    "    x=np.random.normal(0,1,np.shape(unknown_indexes)[0])\n",
    "    allval3[unknown_indexes]=Ec + np.matmul(Cholesky,x)\n",
    "    result[i]=length(allval3,Delta)\n"
   ]
  },
  {
   "cell_type": "code",
   "execution_count": 14,
   "metadata": {},
   "outputs": [
    {
     "data": {
      "text/plain": [
       "522.3997947819512"
      ]
     },
     "execution_count": 14,
     "metadata": {},
     "output_type": "execute_result"
    }
   ],
   "source": [
    "sum(result)/K"
   ]
  },
  {
   "cell_type": "code",
   "execution_count": 15,
   "metadata": {},
   "outputs": [
    {
     "data": {
      "text/plain": [
       "501.6468416918411"
      ]
     },
     "execution_count": 15,
     "metadata": {},
     "output_type": "execute_result"
    }
   ],
   "source": [
    "length(allval1,Delta)"
   ]
  },
  {
   "cell_type": "markdown",
   "metadata": {},
   "source": [
    "*On donne ici directement les résultats pour 100000 simulations (comparer la vitesse d'éxécution avec votre code pour voir l'intérêt de la vectorisation).*\n",
    "\n",
    "*On voit ici que la longueur donnée par l'espérance conditionnelle est bien moindre que la longueur d'une simulation conditionnelle. Ceci est dû au fait que la simulation conditionnelle va reproduire les fluctuations attendues, au contraire de l'espérance conditionnelle qui minimise la variance.*\n",
    "\n",
    "*NB : On remarquera que c'est le seul endroit où on a utilisé une boucle dans cette correction. On aurait pu s'en passer en utilisant notamment les outils de la librairie Pandas mais le code est plus lisible ainsi.*"
   ]
  },
  {
   "cell_type": "markdown",
   "metadata": {},
   "source": [
    "10. Représenter la suite $M_n$ des moyennes des longueurs de câbles en fonction du nombre de simulations. Commenter."
   ]
  },
  {
   "cell_type": "code",
   "execution_count": 16,
   "metadata": {},
   "outputs": [
    {
     "data": {
      "image/png": "[encoded data removed]",
      "text/plain": [
       "<Figure size 432x288 with 1 Axes>"
      ]
     },
     "metadata": {
      "needs_background": "light"
     },
     "output_type": "display_data"
    }
   ],
   "source": [
    "indice_simu = 1+np.arange(K)\n",
    "plt.plot(indice_simu,np.cumsum(result)/indice_simu)\n",
    "plt.show()"
   ]
  },
  {
   "cell_type": "markdown",
   "metadata": {},
   "source": [
    "*Comme attendu d'après la LFGN, on observe une stabilisation de la valeur moyenne. Les variations sont imperceptibles après quelques dizaines de milliers de simulations*"
   ]
  },
  {
   "cell_type": "markdown",
   "metadata": {},
   "source": [
    "11. Représenter l'histogramme des longueurs de câbles générées."
   ]
  },
  {
   "cell_type": "code",
   "execution_count": 17,
   "metadata": {},
   "outputs": [
    {
     "data": {
      "image/png": "[encoded data removed]",
      "text/plain": [
       "<Figure size 432x288 with 1 Axes>"
      ]
     },
     "metadata": {
      "needs_background": "light"
     },
     "output_type": "display_data"
    }
   ],
   "source": [
    "plt.hist(result,50,density=True)\n",
    "plt.show()"
   ]
  },
  {
   "cell_type": "markdown",
   "metadata": {},
   "source": [
    "*L'histogramme ressemble à une densité gaussienne, avec néanmoins une légère dissymétrie (plus de valeurs fortes).*"
   ]
  },
  {
   "cell_type": "markdown",
   "metadata": {},
   "source": [
    "12. Donner un intervalle de confiance à 95% de la longueur du câble par 2 méthodes différentes. Commenter."
   ]
  },
  {
   "cell_type": "markdown",
   "metadata": {},
   "source": [
    "*1ère méthode : par approximation gaussienne. L'histogramme précédent suggère qu'une loi gaussienne peut bien représenter la loi conditionnelle de la longueur du cable. On obtient un intervalle de confiance en calculant la moyenne (milieu de l'intervalle) et l'écart type de l'échantillon de longueurs de câble puis en appliquant la formule du cours.*"
   ]
  },
  {
   "cell_type": "code",
   "execution_count": 18,
   "metadata": {},
   "outputs": [
    {
     "data": {
      "text/plain": [
       "[517.0223832394802, 527.7772063244222]"
      ]
     },
     "execution_count": 18,
     "metadata": {},
     "output_type": "execute_result"
    }
   ],
   "source": [
    "Ln = sum(result)/K\n",
    "sigman = np.std(result)\n",
    "[Ln - sigman*1.96,Ln + sigman*1.96]"
   ]
  },
  {
   "cell_type": "markdown",
   "metadata": {},
   "source": [
    "*2e méthode : on extrait les quantiles à 2.5% et 97.5% de l'échantillon, c'est-à-dire les valeurs $x_\\alpha$ pour $\\alpha \\in \\{0.025 ; 0.975\\}$telles que* $$\\mathbb{P}(L<x_\\alpha) \\approx \\frac{1}{n}\\sum_{i=1}^N 1_{\\{L_i<x_\\alpha\\}}$$"
   ]
  },
  {
   "cell_type": "code",
   "execution_count": 19,
   "metadata": {},
   "outputs": [
    {
     "data": {
      "text/plain": [
       "array([517.1907614 , 528.01639757])"
      ]
     },
     "execution_count": 19,
     "metadata": {},
     "output_type": "execute_result"
    }
   ],
   "source": [
    "np.quantile(result,[0.025,0.975])"
   ]
  },
  {
   "cell_type": "markdown",
   "metadata": {},
   "source": [
    "*ATTENTION : ici l'utilisation du TCL tel qu'exposé au début du chapitre 5 fournissait un intervalle de confiance de l'**espérance de la longueur de câble** et non de la **longueur de câble** (erreur fréquente).*\n",
    "\n",
    "*On voit par ailleurs que la 2e méthode est plus précise car elle est basée directement sur la loi empirique de l'échantillon*"
   ]
  },
  {
   "cell_type": "markdown",
   "metadata": {},
   "source": [
    "13. Donner une estimation de la probabilité que la longueur du câble dépasse 525 m."
   ]
  },
  {
   "cell_type": "code",
   "execution_count": 20,
   "metadata": {},
   "outputs": [
    {
     "data": {
      "text/plain": [
       "0.14"
      ]
     },
     "execution_count": 20,
     "metadata": {},
     "output_type": "execute_result"
    }
   ],
   "source": [
    "np.mean(result>525)"
   ]
  },
  {
   "cell_type": "markdown",
   "metadata": {},
   "source": [
    "14. Reprendre les questions précédentes avec 1000, 10000 puis 100000 simulations. Commenter"
   ]
  },
  {
   "cell_type": "markdown",
   "metadata": {},
   "source": [
    "*cf. le commentaire de la question 10. On observe une stabilisation progressive des estimateurs des différentes quantités calculées : moyennes, quantiles, probabilité de dépassement de seuil.*"
   ]
  },
  {
   "cell_type": "markdown",
   "metadata": {},
   "source": [
    "# Enoncé 2021 (Partie 2)\n",
    "\n",
    "Nous nous plaçons dans le même cadre que ci-dessus. Nous tenons pour acquis les résultats précédents et allons maintenant approfondir l'analyse."
   ]
  },
  {
   "cell_type": "markdown",
   "metadata": {},
   "source": [
    "## Valeurs positives\n",
    "\n",
    "1. A la question 7 de la partie 1, on peut s'apercevoir que certains profils de profondeur présentent des valeurs positives, ce qui n'a pas de sens si on considère qu'il n'y a pas de partie émergée entre les deux côtes. Proposer et implémenter un algorithme de type rejet qui ne génèrera que des valeurs négatives. Représenter un profil de profondeur généré."
   ]
  },
  {
   "cell_type": "markdown",
   "metadata": {},
   "source": [
    "#### Réponse (question 1)\n",
    "\n",
    "Pour cela, on reprend exactement le code de la question 7, mais on introduit une vérification de la profondeur (méthode du rejet).\n",
    "* Si une profondeur est positive, on recommence le calcul\n",
    "* Si toutes les profondeurs sont négatives, on retourne le vecteur aléatoire construit."
   ]
  },
  {
   "cell_type": "code",
   "execution_count": 21,
   "metadata": {},
   "outputs": [
    {
     "data": {
      "image/png": "[encoded data removed]",
      "text/plain": [
       "<Figure size 432x288 with 1 Axes>"
      ]
     },
     "metadata": {
      "needs_background": "light"
     },
     "output_type": "display_data"
    }
   ],
   "source": [
    "# On reprend le code de la q7, et on adapte.\n",
    "\n",
    "Cholesky = np.linalg.cholesky(SigmaCond)\n",
    "\n",
    "def genererNegatives():\n",
    "    # On utilise la méthode de Cholesky\n",
    "    # pour fabriquer un vecteur aléatoire de moyenne Ec et de matrice de covariance SigmaCond\n",
    "    ok = False\n",
    "    rejet = 0\n",
    "\n",
    "    while not(ok):\n",
    "        # On souhaite fabriquer un vecteur aléatoire gaussien de taille unknown-indexes (inconnues),\n",
    "        # d'espérance Ec (espérance conditionnelle des composantes non-observées, connaissant les observations d'après Proba 3 p. 19)\n",
    "        # et de matrice de covariance SigmaCond (matrice de covariance conditionnelle d'après Proba 3, p.19)\n",
    "        # Ces deux quantités ont déjà été fabriquées. Il ne reste plus qu'à fabriquer le vecteur aléatoire.\n",
    "    \n",
    "        x = np.random.normal(0,1,np.shape(unknown_indexes)[0])\n",
    "        simu = Ec + np.matmul(Cholesky,x)\n",
    "    \n",
    "        # On utilise une méthode de rejet pour interdire les valeurs positives.\n",
    "        ok = np.all(simu <= 0)\n",
    "        \n",
    "        if(not(ok)):\n",
    "            rejet+=1\n",
    "    \n",
    "    return(simu, rejet)\n",
    "    \n",
    "simu = genererNegatives()[0]\n",
    "\n",
    "#Affichage\n",
    "allval3 = np.zeros(N)\n",
    "allval3[unknown_indexes]=simu\n",
    "allval3[observation_indexes]=depth\n",
    "plt.plot(discretization,allval3)\n",
    "plt.plot(discretization,allval1)\n",
    "plt.plot(discretization[observation_indexes], depth, 'ro')\n",
    "plt.show()"
   ]
  },
  {
   "cell_type": "markdown",
   "metadata": {},
   "source": [
    "2. L'emploi de cet algorithme a-t-il un impact sur la valeur moyenne de la longueur de câble ? Sur l'histogramme des longueurs de câble ? Sur l'intervalle de confiance obtenu par la méthode des quantiles ? Sur la probabilité de dépassement du seuil de 525 m? Donner une estimation du taux de rejet de l'algorithme. Considérer 10000 simulations."
   ]
  },
  {
   "cell_type": "markdown",
   "metadata": {},
   "source": [
    "#### Réponse (question 2)\n",
    "\n",
    "On simule 10 000 fois pour chacun des cas (valeurs négatives uniquement, ou quelconques), et on calcule les valeurs souhaitées."
   ]
  },
  {
   "cell_type": "code",
   "execution_count": 22,
   "metadata": {},
   "outputs": [],
   "source": [
    "# Fonction auxiliaire\n",
    "def genererQuelconque():\n",
    "    x = np.random.normal(0,1,np.shape(unknown_indexes)[0])\n",
    "    return Ec + np.matmul(Cholesky,x)"
   ]
  },
  {
   "cell_type": "code",
   "execution_count": 23,
   "metadata": {},
   "outputs": [],
   "source": [
    "#Initialisation\n",
    "K=10000\n",
    "simu_neg = np.zeros(N)\n",
    "simu_qqc = np.zeros(N)\n",
    "simu_neg[observation_indexes] = depth\n",
    "simu_qqc[observation_indexes] = depth\n",
    "\n",
    "\n",
    "longueur_neg = np.zeros(K)\n",
    "longueur_qqc = np.zeros(K)\n",
    "\n",
    "rejets = np.zeros(K)\n",
    "\n",
    "for i in range(K):\n",
    "    simu_neg[unknown_indexes], rejets0 = genererNegatives()\n",
    "    simu_qqc[unknown_indexes] = genererQuelconque()\n",
    "    \n",
    "    # Longueur du câble\n",
    "    longueur_neg[i]=length(simu_neg,Delta)\n",
    "    longueur_qqc[i]=length(simu_qqc,Delta)\n",
    "    \n",
    "    #Essais\n",
    "    rejets[i] = rejets0"
   ]
  },
  {
   "cell_type": "code",
   "execution_count": 24,
   "metadata": {
    "scrolled": true
   },
   "outputs": [
    {
     "name": "stdout",
     "output_type": "stream",
     "text": [
      "==Longueur du câble==\n",
      " - cas négatif :  521.7945639748615\n",
      " - cas quelconque :  522.4397121702264\n"
     ]
    }
   ],
   "source": [
    "print(\"==Longueur du câble==\")\n",
    "print(\" - cas négatif : \", np.sum(longueur_neg)/K)\n",
    "print(\" - cas quelconque : \", np.sum(longueur_qqc)/K)"
   ]
  },
  {
   "cell_type": "code",
   "execution_count": 25,
   "metadata": {},
   "outputs": [
    {
     "name": "stdout",
     "output_type": "stream",
     "text": [
      "==Histogramme==\n"
     ]
    },
    {
     "data": {
      "image/png": "[encoded data removed]",
      "text/plain": [
       "<Figure size 432x288 with 1 Axes>"
      ]
     },
     "metadata": {
      "needs_background": "light"
     },
     "output_type": "display_data"
    }
   ],
   "source": [
    "print(\"==Histogramme==\")\n",
    "plt.hist(longueur_qqc,50,density=True, color='y', label='Cas quelconque')\n",
    "plt.hist(longueur_neg,50,density=True, color='g', label=\"Cas négatif\")\n",
    "plt.title(\"Comparaison des histogrammes\")\n",
    "plt.legend()\n",
    "\n",
    "plt.show()"
   ]
  },
  {
   "cell_type": "code",
   "execution_count": 26,
   "metadata": {},
   "outputs": [
    {
     "name": "stdout",
     "output_type": "stream",
     "text": [
      "==Intervalle de confiance==\n",
      " - cas négatif :  [516.5743592  527.74589152]\n",
      " - cas quelconque :  [517.09958126 528.41198756]\n"
     ]
    }
   ],
   "source": [
    "print(\"==Intervalle de confiance==\")\n",
    "print(\" - cas négatif : \", np.quantile(longueur_neg, [0.025,0.975]))\n",
    "print(\" - cas quelconque : \", np.quantile(longueur_qqc, [0.025,0.975]))"
   ]
  },
  {
   "cell_type": "code",
   "execution_count": 27,
   "metadata": {},
   "outputs": [
    {
     "name": "stdout",
     "output_type": "stream",
     "text": [
      "==Probabilité de dépassement==\n",
      " - cas négatif :  0.1303\n",
      " - cas quelconque :  0.1848\n"
     ]
    }
   ],
   "source": [
    "print(\"==Probabilité de dépassement==\")\n",
    "print(\" - cas négatif : \", np.mean(longueur_neg>525))\n",
    "print(\" - cas quelconque : \", np.mean(longueur_qqc>525))"
   ]
  },
  {
   "cell_type": "code",
   "execution_count": 28,
   "metadata": {},
   "outputs": [
    {
     "name": "stdout",
     "output_type": "stream",
     "text": [
      "==Taux de rejet==\n",
      "Il y a eu : \n",
      "263521 simulations au total, dont\n",
      "- 253521 rejets\n",
      "- 10000 réussites\n",
      " => cela fournit donc un taux de rejet de  96.20523601534603 %\n"
     ]
    }
   ],
   "source": [
    "print(\"==Taux de rejet==\")\n",
    "print(\"Il y a eu : \")\n",
    "rejets_tot = np.sum(rejets)\n",
    "print(int(rejets_tot) + K,\"simulations au total, dont\")\n",
    "print(\"-\", int(rejets_tot),\"rejets\")\n",
    "print(\"-\", K,\"réussites\")\n",
    "print(\" => cela fournit donc un taux de rejet de \", (rejets_tot)/(rejets_tot + K)*100,\"%\")"
   ]
  },
  {
   "cell_type": "markdown",
   "metadata": {},
   "source": [
    "Pour la **longueur du câble**, on constate que la valeur est légérement plus élevée pour le cas où l'on admet des valeurs quelconques. Cela est cohérent, car en forçant les valeurs à rester négatives, le câble a intuitivement tendance à parcourir une distance plus faible (on restreint les valeurs atteignables).\n",
    "\n",
    "Pour **l'histogramme de la longueur du câble**, on remarque qu'il est légéremment déplacé vers la droite dans le cas quelconque (conformément à l'intuition). Autrement, la distribution reste semblable.\n",
    "\n",
    "Pour **l'intervalle de confiance**, on constate également qu'il est légérement déplacé vers la droite dans le cas quelconque (conformément à l'intuition).\n",
    "\n",
    "Pour **la probabilité de dépassement de 525m**, on remarque qu'elle est plus faible pour le cas négatif. C'est conforme à l'intuition là aussi.\n",
    "\n",
    "Le **taux de rejet** est d'environ 96%. Cette méthode est donc peu efficace pour générer un grand nombre de valeurs."
   ]
  },
  {
   "cell_type": "markdown",
   "metadata": {},
   "source": [
    "## Approche Bayésienne\n",
    "\n",
    "Dans la première partie, on a considéré que l'ensemble des paramètres du modèle était parfaitement connu. Toutes choses égales par ailleurs, on va maintenant considérer que la moyenne $\\mu$ est issue d'une estimation entâchée d'une incertitude. Plus précisément, on va modéliser cette incertitude en considérant que $\\mu \\sim \\mathcal{N}(-5,4)$.\n",
    "\n",
    "On va également décomposer le vecteur $\\mathbf{Z}$ en $\\mathbf{Z} = (\\mathbf{Z}_{\\text{OBS}},\\mathbf{Z}_{\\text{UNK}})$. On notera $C_{\\text{OBS}}$ et $C_{\\text{UNK}}$ les matrices de covariance respectives de $\\mathbf{Z}_{\\text{OBS}}$ et $\\mathbf{Z}_{\\text{UNK}}$ ainsi que $C_{\\text{OBS},\\text{UNK}}$ la matrice des covariances entre ces deux vecteurs.\n",
    "\n",
    "### Questions théoriques\n",
    "\n",
    "3. Montrer que $\\mu | \\mathbf{Z}_{\\text{OBS}}= \\mathbf{z}_{\\text{OBS}} \\sim \\mathcal{N}(\\widehat{\\mu},\\widehat{\\sigma}^2)$ avec\n",
    "$$\\widehat{\\sigma}^2 = (\\mathbf{1}^t C_{\\text{OBS}}^{-1} \\mathbf{1} + \\frac1{4})^{-1},$$ \n",
    "où $\\mathbf{1}$ est un vecteur de longueur 6 (soit la longueur du vecteur $\\mathbf{Z}_{\\text{OBS}}$) ne contenant que des 1 et \n",
    "$$\\widehat{\\mu} = \\widehat{\\sigma}^2 (\\mathbf{1}^t C_{\\text{OBS}}^{-1} \\mathbf{z}_{\\text{OBS}} - \\frac{5}{4} )$$\n",
    "Indication : écrire la densité jointe du vecteur $(\\mathbf{Z}_{\\text{OBS}},\\mu)$, calculer $-2 \\ln$ de cette densité puis identifier la forme quadratique faisant intervenir $\\mu$."
   ]
  },
  {
   "cell_type": "markdown",
   "metadata": {},
   "source": [
    "#### Réponse (question 3)\n",
    "\n",
    "Posons $\\mathbf{X} := (\\mu, \\mathbf{Z}_{obs})$. Nous allons exprimer la densité jointe de deux manières différentes, en conditionnant selon $\\mu=\\mu^\\star$ et selon $Z_{obs}=z_{obs}$ :\n",
    "\n",
    "$$\n",
    "f_{Z_{obs}|\\mu=\\mu^\\star}(z_{obs})\\cdot f_\\mu(\\mu^\\star) = f_{\\mu|Z_{obs}=z_{obs}}(\\mu^\\star)\\cdot f_{Z_{obs}}(z_{obs})\n",
    "$$\n",
    "\n",
    "On connaît les deux densités situées à droite de l'égalité (cf. ci-dessus). Puis d'après le chapitre III de probabilités (section sur le conditionnement d'une gaussienne), on sait que les deux densités de gauche sont gaussiennes ; en particulier, **la densité cherchée est gaussienne**.\n",
    "\n",
    "En passant à $-2\\ln$, et en enlevant les termes issus des facteurs pré-exponentiels, on obtient une égalité sur les formes quadratiques présentes dans les exponentielles :\n",
    "\n",
    "$$\n",
    "(z_{obs}-\\mu^\\star\\mathbf{1})^TC_{obs}^{-1}(z_{obs}-\\mu^\\star\\mathbf{1}) + \\dfrac{1}{4}(\\mu^\\star + 5)^2 = \\dfrac{1}{\\hat{\\sigma}^2}(\\mu^\\star - \\hat\\mu)^2 + A(z_{obs})\n",
    "$$\n",
    "\n",
    "($A(z_{obs})$ ne dépend pas de $\\mu^\\star$, car c'est la forme quadratique présente dans $f_{Z_{obs}}(z_{obs})$).\n",
    "\n",
    "On développe le terme de gauche pour obtenir :\n",
    "\n",
    "$$\n",
    " z_{obs}^TC_{obs}^{-1}z_{obs} -2\\mu^\\star\\mathbf{1}^TC_{obs}^{-1}z_{obs} + {\\mu^\\star}^2\\mathbf{1}^TC_{obs}^{-1}\\mathbf{1} + \\dfrac{1}{4}(\\mu^\\star + 5)^2= \\dfrac{1}{\\hat{\\sigma}^2}(\\mu^\\star - \\hat\\mu)^2 + A(z_{obs})\n",
    "$$\n",
    "\n",
    "(car $C_{obs}$ est une matrice symétrique)\n",
    "\n",
    "puis :\n",
    "\n",
    "$$\n",
    "{\\mu^\\star}^2(\\mathbf{1}^TC_{obs}^{-1}\\mathbf{1} + \\dfrac{1}{4}) - 2\\mu^\\star(\\mathbf{1}^TC_{obs}^{-1}z_{obs} - \\dfrac{5}{4}) + z_{obs}^TC_{obs}^{-1}z_{obs} + \\dfrac{25}{4}= {\\mu^\\star}^2\\dfrac{1}{\\hat{\\sigma}^2} -2\\mu^\\star\\dfrac{\\hat\\mu}{\\hat{\\sigma}^2} + \\dfrac{{\\hat\\mu}^2}{\\hat{\\sigma}^2} + A(z_{obs})\n",
    "$$\n",
    "\n",
    "Puis en identifiant devant ${\\mu^\\star}^2$, on obtient :\n",
    "$$\n",
    "\\hat{\\sigma}^2 = (\\mathbf{1}^TC_{obs}^{-1}\\mathbf{1} + \\dfrac{1}{4})^{-1}\n",
    "$$\n",
    "\n",
    "et en identifiant devant $-2\\mu^\\star$ :\n",
    "$$\n",
    "\\hat\\mu = \\hat{\\sigma}^2(\\mathbf{1}^TC_{obs}^{-1}z_{obs} - \\dfrac{5}{4}) \n",
    "$$\n",
    "\n",
    "Cela nous donne le résultat voulu."
   ]
  },
  {
   "cell_type": "markdown",
   "metadata": {},
   "source": [
    "4. Montrer que si $X$, $Y$ et $Z$ sont trois vecteurs aléatoires à densité, alors $f_{X,Y|Z = z}(x,y) = f_{X|Y=y,Z=z}(x)f_{Y|Z=Z}(y)$"
   ]
  },
  {
   "cell_type": "markdown",
   "metadata": {},
   "source": [
    "#### Réponse (question 4)\n",
    "\n",
    "D'une part, en conditionnant le couple $(X,Y)$ par $Z=z$ :\n",
    "\n",
    "$$\n",
    "f_{X,Y,Z}(x,y,z)=f_{X,Y|Z=z}(x,y)f_{Z}(z)\n",
    "$$\n",
    "\n",
    "et d'autre part en conditionnant le vecteur $X$ par $(Y,Z)=(y,z)$:\n",
    "\n",
    "$$\n",
    "f_{X,Y,Z}(x,y,z)=f_{X|Y=y,Z=z}(x)f_{Y,Z}(y,z)\n",
    "$$\n",
    "\n",
    "d'où :\n",
    "\n",
    "$$f_{X,Y|Z=z}(x,y)=f_{X|Y=y,Z=z}(x) \\cdot \\dfrac{f_{Y,Z}(y,z)}{f_{Z}(z)}$$\n",
    "\n",
    "On reconnaît dans ce dernier terme $f_{Y|Z=z}(y)$, ce qui fournit le résultat voulu."
   ]
  },
  {
   "cell_type": "markdown",
   "metadata": {},
   "source": [
    "5. En déduire que la densité de $(\\mathbf{Z}_{\\text{UNK}},\\mu) | \\mathbf{Z}_{\\text{OBS}} = \\mathbf{z}_{\\text{OBS}}$ s'écrit comme le produit de $f_{\\mu | \\mathbf{Z}_{\\text{OBS}} = \\mathbf{z}_{\\text{OBS}}}$ et de $f_{\\mathbf{Z}_{\\text{UNK}}| \\mu = \\mu^\\star, \\mathbf{Z}_{\\text{OBS}} = \\mathbf{z}_{\\text{OBS}}}$ que l'on exprimera.\n",
    "\n",
    "    Indication : $f_{\\mathbf{Z}_{\\text{UNK}}| \\mu = \\mu^\\star, \\mathbf{Z}_{\\text{OBS}} = \\mathbf{z}_{\\text{OBS}}}$ est identique à la densité $f_{\\mathbf{Z}_{\\text{UNK}}| \\mathbf{Z}_{\\text{OBS}} = \\mathbf{z}_{\\text{OBS}}}$ utilisée dans la partie 1 avec $\\mu = \\mu^\\star$"
   ]
  },
  {
   "cell_type": "markdown",
   "metadata": {},
   "source": [
    "#### Réponse (question 5)\n",
    "\n",
    "Par la question précédente, on a immédiatement :\n",
    "\n",
    "$$\n",
    "f_{Z_{UNK},\\mu | Z_{obs} = z_{obs}}(z, \\mu^\\star)=f_{Z_{\\textbf{UNK} | \\mu = \\mu^\\star, Z_{obs}} = z_{obs}}(z) \\cdot f_{\\mu | Z_{obs} = z_{obs}}(\\mu^\\star)\n",
    "$$\n",
    "\n",
    "Puis par la partie 1 (question théorique 2), comme (N-6)/2 = 47\n",
    "\n",
    "$$\n",
    "f_{Z_{\\textbf{UNK} | \\mu = \\mu^\\star, Z_{obs}} = z_{obs}}(z) = \\dfrac{1}{(2\\pi)^{47}} \\cdot \\dfrac{1}{\\sqrt{\\det(\\Sigma)}} \\exp\\left(-\\dfrac{1}{2}(z-E_c)^T\\Sigma^{-1}(z-E_c)\\right)\n",
    "$$\n",
    "\n",
    "où :\n",
    "* $\\Sigma$ est la matrice de covariance conditionnelle (calculée à la partie 1)\n",
    "* $E_c$ est l'espérance conditionnelle (calculée à la partie 1, en utilisant $\\mu = \\mu^\\star$)\n",
    "\n",
    "Et par la question 3 :\n",
    "\n",
    "$$\n",
    "f_{\\mu | Z_{obs} = z_{obs}}(\\mu^\\star) = \\dfrac{1}{\\sqrt{2\\pi}}\\dfrac{1}{\\widehat\\sigma}\\exp\\left(-\\dfrac{1}{2}\\left(\\dfrac{\\mu^\\star - \\widehat\\mu}{\\widehat\\sigma}\\right)^2\\right)\n",
    "$$"
   ]
  },
  {
   "cell_type": "markdown",
   "metadata": {},
   "source": [
    "### Simulation\n",
    "\n",
    "On va maintenant chercher à simuler les valeurs de $\\mathbf{Z}_{\\text{UNK}}$ en tenant compte de l'incertitude sur $\\mu$.\n",
    "\n",
    "En première approche, on pourrait chercher à obtenir la densité de $\\mathbf{Z}_{\\text{UNK}} | \\mathbf{Z}_{\\text{OBS}} = \\mathbf{z}_{\\text{OBS}}$ en calculant \n",
    "$$\\int_\\mathbb{R} f_{(\\mathbf{Z}_{\\text{UNK}},\\mu) | \\mathbf{Z}_{\\text{OBS}} = \\mathbf{z}_{\\text{OBS}}}(\\mathbf{z}_{\\text{UNK}},\\mu^\\star) d\\mu^\\star$$\n",
    "mais ce calcul a peu de chances d'aboutir.\n",
    "\n",
    "On va plutôt procéder par simulations en cascade, c'est-à-dire que pour chaque simulation de $\\mathbf{Z}_{\\text{UNK}}$, on va d'abord générer une valeur $\\mu^\\star$ de $\\mu$ selon $f_{\\mu | \\mathbf{Z}_{\\text{OBS}}= \\mathbf{z}_{\\text{OBS}}}$ puis on simulera $\\mathbf{Z}_{\\text{UNK}}$ selon $f_{\\mathbf{Z}_{\\text{UNK}}| \\mathbf{Z}_{\\text{OBS}} = \\mathbf{z}_{\\text{OBS}},\\mu = \\mu^\\star}$.\n"
   ]
  },
  {
   "cell_type": "markdown",
   "metadata": {},
   "source": [
    "6. Calculer $\\widehat{\\mu}$ et $\\widehat{\\sigma}^2$. "
   ]
  },
  {
   "cell_type": "code",
   "execution_count": 29,
   "metadata": {},
   "outputs": [
    {
     "name": "stdout",
     "output_type": "stream",
     "text": [
      "Sigma_chap_2 =  1.5368909974762894\n",
      "mu_chap =  -4.291350330933772\n"
     ]
    }
   ],
   "source": [
    "unit = np.array([1, 1, 1, 1, 1, 1])\n",
    "Sigma_chap_2 = 1/(np.transpose(unit).dot(np.linalg.inv(SigmaObs)).dot(unit) + 1/4)\n",
    "mu_chap = Sigma_chap_2 * (np.transpose(unit).dot(np.linalg.inv(SigmaObs)).dot(depth) - 5/4)\n",
    "\n",
    "print(\"Sigma_chap_2 = \",Sigma_chap_2)\n",
    "print(\"mu_chap = \", mu_chap)"
   ]
  },
  {
   "cell_type": "markdown",
   "metadata": {},
   "source": [
    "7. Calculer la probabilité de $\\{\\mu| \\mathbf{Z}_{\\text{OBS}} = \\mathbf{z}_{\\text{OBS}} > 0\\}$. Proposer et implémenter un algorithme de simulation de $\\mu| \\mathbf{Z}_{\\text{OBS}} = \\mathbf{z}_{\\text{OBS}}, \\mu <0$."
   ]
  },
  {
   "cell_type": "markdown",
   "metadata": {},
   "source": [
    "#### Réponse (question 7)\n",
    "\n",
    "$\\mu | \\mathbf{Z}_{\\text{OBS}}= \\mathbf{z}_{\\text{OBS}} \\sim \\mathcal{N}(\\widehat{\\mu},\\widehat{\\sigma}^2)$. On défini la variable aléatoire $Y$ telle que $Y$ et $\\mu | \\mathbf{Z}_{\\text{OBS}}= \\mathbf{z}_{\\text{OBS}}$ soient de même loi. On cherche donc à calculer $P(Y>0)$.\n",
    "$Y$ suit une loi normale de paramètres $(\\widehat{\\mu},\\widehat{\\sigma}^2)$ donc sa densité est :$$f(y) = \\frac{1}{\\widehat{\\sigma} \\sqrt{2\\pi}} e^{- \\frac{1}{2} \\left ( \\frac{y - \\widehat{\\mu}}{\\widehat{\\sigma}} \\right ) ^2}$$\n",
    "Ainsi, on a :\n",
    "$$P(Y>0) = \\int_0^{+\\infty} f(y) dy = \\frac{1}{\\sqrt{2\\pi}} \\int_{\\frac{-\\widehat{\\mu}}{\\widehat{\\sigma}}}^{+ \\infty} e^{-\\frac{1}{2} x^2}dx$$"
   ]
  },
  {
   "cell_type": "code",
   "execution_count": 38,
   "metadata": {},
   "outputs": [
    {
     "name": "stdout",
     "output_type": "stream",
     "text": [
      "P(Y>0) =  0.0002685226388166064\n"
     ]
    }
   ],
   "source": [
    "from math import pi\n",
    "from scipy.integrate import quad\n",
    "\n",
    "# On intègre f à l'aide de la bibliothèque scipy\n",
    "\n",
    "def f(Y):\n",
    "    fy = 1/(2*pi)**(1/2)*np.exp(-1/2 * Y**2)\n",
    "    return fy\n",
    "\n",
    "born_inf = -mu_chap/(Sigma_chap_2**(1/2))\n",
    "I, err = quad(f, born_inf, np.inf)\n",
    "\n",
    "print(\"P(Y>0) = \", I)"
   ]
  },
  {
   "cell_type": "markdown",
   "metadata": {},
   "source": [
    "On obtient : \n",
    "$$P(\\mu| \\mathbf{Z}_{\\text{OBS}} = \\mathbf{z}_{\\text{OBS}} > 0) = 2,7 \\times 10^{-4}$$\n",
    "Le cas $\\mu >0$ est donc très peu fréquent, et on peut implémenter un algorithme de simulation de $\\mu| \\mathbf{Z}_{\\text{OBS}} = \\mathbf{z}_{\\text{OBS}}$ avec la méthode du rejet (le taux de rejet sera très faible) pour avoir $\\mu<0$.\n",
    "On cherche à simuler une variable aléatoire gaussienne, on va donc utiliser la méthode de Box-Muller. "
   ]
  },
  {
   "cell_type": "code",
   "execution_count": 39,
   "metadata": {},
   "outputs": [],
   "source": [
    "# Algorithme de simulation\n",
    "from random import random\n",
    "\n",
    "\n",
    "def simulation_mu():\n",
    "    mu_simul = 0\n",
    "\n",
    "    # On utilise la méthode du rejet pour avoir une valeur négative de mu\n",
    "    while(mu_simul >= 0) :\n",
    "    \n",
    "\n",
    "        # On tire deux valeurs aléatoires dans ]0, 1[ (selon une loi uniforme)\n",
    "        u = random()\n",
    "        # On vérifie que u est non nul \n",
    "        while(u == 0):\n",
    "            u = random()\n",
    "\n",
    "        v = random()\n",
    "        # On vérifie que v est non nul \n",
    "        while(v == 0):\n",
    "            v = random()\n",
    "\n",
    "    \n",
    "        # On calcule x, valeur d'une loi normale centrée réduite\n",
    "        x = (-2*np.log(u))**(1/2) * np.cos(2*pi*v)\n",
    "\n",
    "        # On calcul mu à partir de x\n",
    "        mu_simul = (Sigma_chap_2)**(1/2)*x + mu_chap\n",
    "        \n",
    "        return(mu_simul)\n",
    "    \n"
   ]
  },
  {
   "cell_type": "markdown",
   "metadata": {},
   "source": [
    "8. Générer un couple $\\mathbf{Z}_{\\text{UNK}}, \\mu| \\mathbf{Z}_{\\text{OBS}}, \\mu <0$ et représenter le profil de profondeur obtenu. On prendra soin de ne générer que des valeurs négatives de $\\mathbf{Z}_{\\text{UNK}}$ en utilisant l'algorithme de la section précédente."
   ]
  },
  {
   "cell_type": "code",
   "execution_count": 44,
   "metadata": {},
   "outputs": [
    {
     "data": {
      "image/png": "[encoded data removed]",
      "text/plain": [
       "<Figure size 432x288 with 1 Axes>"
      ]
     },
     "metadata": {
      "needs_background": "light"
     },
     "output_type": "display_data"
    }
   ],
   "source": [
    "# Le seul changement par rapport à la question 1 est le calcul de Ec avec la valeur de mu simulée\n",
    "\n",
    "# On reprend le code de la question 1\n",
    "Cholesky = np.linalg.cholesky(SigmaCond)\n",
    "\n",
    "def genererNegatives_simu_mu():\n",
    "    # On utilise la méthode de Cholesky\n",
    "    # pour fabriquer un vecteur aléatoire de moyenne Ec_simul et de matrice de covariance SigmaCond\n",
    "    mu_simul = simulation_mu()\n",
    "    Ec_simul= mu_simul+np.matmul(np.transpose(SigmaObsUnknown),np.matmul(np.linalg.inv(SigmaObs),depth-mu_simul))\n",
    "    ok = False\n",
    "    rejet = 0\n",
    "\n",
    "    while not(ok):\n",
    "        # On souhaite fabriquer un vecteur aléatoire gaussien de taille unknown-indexes (inconnues),\n",
    "        # d'espérance Ec (espérance conditionnelle des composantes non-observées, connaissant les observations d'après Proba 3 p. 19)\n",
    "        # et de matrice de covariance SigmaCond (matrice de covariance conditionnelle d'après Proba 3, p.19)\n",
    "        # Ces deux quantités ont déjà été fabriquées. Il ne reste plus qu'à fabriquer le vecteur aléatoire.\n",
    "    \n",
    "        x = np.random.normal(0,1,np.shape(unknown_indexes)[0])\n",
    "        simu = Ec_simul + np.matmul(Cholesky,x)\n",
    "    \n",
    "        # On utilise une méthode de rejet pour interdire les valeurs positives.\n",
    "        ok = np.all(simu <= 0)\n",
    "        \n",
    "        if(not(ok)):\n",
    "            rejet+=1\n",
    "    \n",
    "    return(simu)\n",
    "    \n",
    "simu = genererNegatives()[0]\n",
    "\n",
    "#Affichage\n",
    "allval3 = np.zeros(N)\n",
    "allval3[unknown_indexes]=simu\n",
    "allval3[observation_indexes]=depth\n",
    "plt.plot(discretization,allval3)\n",
    "plt.plot(discretization,allval1)\n",
    "plt.plot(discretization[observation_indexes], depth, 'ro')\n",
    "plt.show()"
   ]
  },
  {
   "cell_type": "markdown",
   "metadata": {},
   "source": [
    "9. Générer 10000 profils de profondeur et calculer les longueurs de câble associées. Comparer la valeur moyenne de la longueur de câble, dont on visualisera la convergence, l'histogramme des longueurs de câble, l'intervalle de confiance obtenu par la méthode des quantiles, la probabilité de dépassement du seuil de 525 m avec les résultats obtenus précédemment. Commenter."
   ]
  },
  {
   "cell_type": "code",
   "execution_count": 45,
   "metadata": {},
   "outputs": [],
   "source": [
    "#Initialisation\n",
    "K=10000\n",
    "simu_neg = np.zeros(N)\n",
    "simu_mu_simu = np.zeros(N)\n",
    "simu_neg[observation_indexes] = depth\n",
    "simu_mu_simu[observation_indexes] = depth\n",
    "\n",
    "\n",
    "longueur_neg = np.zeros(K)\n",
    "longueur_mu_simu = np.zeros(K)\n",
    "\n",
    "\n",
    "\n",
    "for i in range(K):\n",
    "    simu_neg[unknown_indexes], rejets0 = genererNegatives()\n",
    "    simu_mu_simu[unknown_indexes] = genererNegatives_simu_mu()\n",
    "    \n",
    "    # Longueur du câble\n",
    "    longueur_neg[i]=length(simu_neg,Delta)\n",
    "    longueur_mu_simu[i]=length(simu_mu_simu,Delta)\n",
    "    \n",
    "    "
   ]
  },
  {
   "cell_type": "code",
   "execution_count": 46,
   "metadata": {},
   "outputs": [
    {
     "name": "stdout",
     "output_type": "stream",
     "text": [
      "==Longueur du câble==\n",
      " - cas négatif :  521.772229256954\n",
      " - cas mu simulé :  521.7026956941911\n"
     ]
    },
    {
     "data": {
      "image/png": "[encoded data removed]",
      "text/plain": [
       "<Figure size 432x288 with 1 Axes>"
      ]
     },
     "metadata": {
      "needs_background": "light"
     },
     "output_type": "display_data"
    }
   ],
   "source": [
    "print(\"==Longueur du câble==\")\n",
    "print(\" - cas négatif : \", np.sum(longueur_neg)/K)\n",
    "print(\" - cas mu simulé : \", np.sum(longueur_mu_simu)/K)\n",
    "\n",
    "indice_simu = 1+np.arange(K)\n",
    "plt.plot(indice_simu,np.cumsum(longueur_mu_simu)/indice_simu)\n",
    "plt.show()"
   ]
  },
  {
   "cell_type": "code",
   "execution_count": 35,
   "metadata": {},
   "outputs": [
    {
     "name": "stdout",
     "output_type": "stream",
     "text": [
      "==Histogramme==\n"
     ]
    },
    {
     "data": {
      "image/png": "[encoded data removed]",
      "text/plain": [
       "<Figure size 432x288 with 1 Axes>"
      ]
     },
     "metadata": {
      "needs_background": "light"
     },
     "output_type": "display_data"
    }
   ],
   "source": [
    "print(\"==Histogramme==\")\n",
    "plt.hist(longueur_neg,50,density=True, color='y', label='Cas négatif')\n",
    "\n",
    "#plt.show()\n",
    "plt.hist(longueur_mu_simu,50,density=True, color='g', label='Cas mu simulé')\n",
    "plt.title(\"Comparaison des histogrammes\")\n",
    "plt.legend()\n",
    "plt.show()"
   ]
  },
  {
   "cell_type": "code",
   "execution_count": 36,
   "metadata": {},
   "outputs": [
    {
     "name": "stdout",
     "output_type": "stream",
     "text": [
      "==Intervalle de confiance==\n",
      " - cas négatif :  [516.5983854  527.58290602]\n",
      " - cas mu simulé :  [516.52456421 527.40687902]\n"
     ]
    }
   ],
   "source": [
    "print(\"==Intervalle de confiance==\")\n",
    "print(\" - cas négatif : \", np.quantile(longueur_neg, [0.025,0.975]))\n",
    "print(\" - cas mu simulé : \", np.quantile(longueur_mu_simu, [0.025,0.975]))"
   ]
  },
  {
   "cell_type": "code",
   "execution_count": 37,
   "metadata": {},
   "outputs": [
    {
     "name": "stdout",
     "output_type": "stream",
     "text": [
      "==Probabilité de dépassement==\n",
      " - cas négatif :  0.1316\n",
      " - cas mu simulé :  0.1281\n"
     ]
    }
   ],
   "source": [
    "print(\"==Probabilité de dépassement==\")\n",
    "print(\" - cas négatif : \", np.mean(longueur_neg>525))\n",
    "print(\" - cas mu simulé : \", np.mean(longueur_mu_simu>525))"
   ]
  },
  {
   "cell_type": "markdown",
   "metadata": {},
   "source": [
    "Pour la **longueur du câble**, on constate que la valeur est,en général, légérement plus faible dans le cas où on simule aléatoirement $\\mu$.\n",
    "\n",
    "Pour **l'histogramme de la longueur du câble**, on remarque qu'il est, en général, légéremment déplacé vers la gauche lorsqu'on simule aléatoirement $\\mu$. Autrement, la distribution reste semblable.\n",
    "\n",
    "Pour **l'intervalle de confiance**, on constate également qu'il est,en général, légérement déplacé vers la gauche lorsqu'on simule aléatoirement $\\mu$.\n",
    "\n",
    "Pour **la probabilité de dépassement de 525m**, on remarque qu'elle est en général plus faible pour le cas où $\\mu$ est simulé aléatoirement.\n",
    "\n",
    "Cependant, ce n'est pas toujours le cas. L'apport de la simulation aléatoire de $\\mu$ n'est pas aussi marquant que la restriction aux valeurs négatives de profondeurs.\n"
   ]
  },
  {
   "cell_type": "markdown",
   "metadata": {},
   "source": [
    "10. Qu'adviendrait-il selon vous si on rendait également aléatoires les autres paramètres du modèle $\\sigma^2$ et $a$ ?\n",
    "\n",
    "#### Réponse (question 10)\n",
    "\n",
    "Si on rendait également aléatoire $\\sigma^2$ et $a$, on pourrait prendre en compte l'incertitude sur ces deux paramètres et obtenir un modèle qui nous semblerait plus réaliste. Cependant, on a remarqué que l'ajout de l'incertitude sur $\\mu$ n'a pas eu une influence énorme sur les résultats. On peut donc supposer que rendre $\\sigma^2$ et $a$ aléatoire ne changerait pas plus de choses. De plus, comme ils participe au calcul de *SigmaObs*, les paramètres $\\widehat{\\mu}$ et $\\widehat{\\sigma}^2$ de la loi normale suivie par $\\mu$ seraient également aléatoires. Il serait donc sûrement très difficile d'estimer le comportement du modèle."
   ]
  },
  {
   "cell_type": "markdown",
   "metadata": {},
   "source": [
    "11. (facultatif) On suppose désormais que $\\alpha = \\frac1{\\sigma^2} \\sim \\Gamma(a_1,a_2)$, où $\\sigma^2$ correspond au paramètre qui intervient dans la fonction $C$. Donner l'expression de la densité de $\\alpha | \\mathbf{Z}_{\\text{OBS}} = \\mathbf{z}_{\\text{OBS}}$,  de $\\mu | \\alpha, \\mathbf{Z}_{\\text{OBS}} = \\mathbf{z}_{\\text{OBS}},$ et de $\\mathbf{Z}_{\\text{UNK}} | \\mu, \\alpha, \\mathbf{Z}_{\\text{OBS}} = \\mathbf{z}_{\\text{OBS}}$. Proposer un algorithme de simulation tenant compte de l'incertitude sur le paramètre $\\alpha$ et analyser son impact sur les différentes quantités évaluées.\n",
    "\n",
    "    Indication : Pour identifier la densité de $\\alpha | \\mathbf{Z}_{\\text{OBS}} = \\mathbf{z}_{\\text{OBS}}$, exprimer d'abord la densité jointe de $(\\alpha,\\mu, \\mathbf{Z}_{\\text{OBS}})$ puis marginaliser pour obtenir la densité de $(\\alpha,\\mathbf{Z}_{\\text{OBS}})$\n"
   ]
  }
 ],
 "metadata": {
  "@webio": {
   "lastCommId": "5ceb69a5bbd14071b254c2439a58ac4b",
   "lastKernelId": "0e923419-c540-42c1-ab5f-d0e05ff4521c"
  },
  "kernelspec": {
   "display_name": "Python 3",
   "language": "python",
   "name": "python3"
  },
  "language_info": {
   "codemirror_mode": {
    "name": "ipython",
    "version": 3
   },
   "file_extension": ".py",
   "mimetype": "text/x-python",
   "name": "python",
   "nbconvert_exporter": "python",
   "pygments_lexer": "ipython3",
   "version": "3.8.3"
  }
 },
 "nbformat": 4,
 "nbformat_minor": 2
}
